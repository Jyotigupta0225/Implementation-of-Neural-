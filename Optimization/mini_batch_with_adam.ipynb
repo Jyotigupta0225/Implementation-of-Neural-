{
 "cells": [
  {
   "cell_type": "markdown",
   "metadata": {},
   "source": [
    "### Exponentially Weighted Moving Average Formula\n",
    "\n",
    "V[i] = beta(V[i-1]) + (1-beta)(thetha)"
   ]
  },
  {
   "cell_type": "code",
   "execution_count": 1,
   "metadata": {},
   "outputs": [],
   "source": [
    "# Importing libraries\n",
    "import numpy as np\n",
    "import pandas as pd\n",
    "import h5py\n",
    "import matplotlib.pyplot as plt\n",
    "from sklearn.metrics import accuracy_score"
   ]
  },
  {
   "cell_type": "code",
   "execution_count": 2,
   "metadata": {},
   "outputs": [],
   "source": [
    "# Loading the data (cat/non-cat)\n",
    "def load_dataset():\n",
    "    \"\"\"Loads the Cat vs Non-Cat dataset\n",
    "\n",
    "    Returns\n",
    "    -------\n",
    "    X_train, y_train, X_test, y_test, classes: Arrays\n",
    "    Dataset splitted into train and test with classes\n",
    "    \"\"\"\n",
    "    train_dataset = h5py.File('datasets/train_catvnoncat.h5', \"r\")\n",
    "    train_set_x_orig = np.array(train_dataset[\"train_set_x\"][:])\n",
    "    train_set_y_orig = np.array(train_dataset[\"train_set_y\"][:])\n",
    "\n",
    "    test_dataset = h5py.File('datasets/test_catvnoncat.h5', \"r\")\n",
    "    test_set_x_orig = np.array(test_dataset[\"test_set_x\"][:])\n",
    "    test_set_y_orig = np.array(test_dataset[\"test_set_y\"][:])\n",
    "\n",
    "    classes = np.array(test_dataset[\"list_classes\"][:])\n",
    "    \n",
    "    return train_set_x_orig, train_set_y_orig, test_set_x_orig, test_set_y_orig, classes"
   ]
  },
  {
   "cell_type": "code",
   "execution_count": 3,
   "metadata": {},
   "outputs": [],
   "source": [
    "# Calculating sigmoid\n",
    "def sigmoid(Z):\n",
    "    return 1/(1+np.exp(-Z))"
   ]
  },
  {
   "cell_type": "code",
   "execution_count": 4,
   "metadata": {},
   "outputs": [],
   "source": [
    "# Calculating tanh\n",
    "def tanh(Z):\n",
    "    return np.tanh(Z)"
   ]
  },
  {
   "cell_type": "code",
   "execution_count": 5,
   "metadata": {},
   "outputs": [],
   "source": [
    "# Calculating relu\n",
    "def relu(Z):\n",
    "    return np.maximum(Z, 0)"
   ]
  },
  {
   "cell_type": "code",
   "execution_count": 6,
   "metadata": {},
   "outputs": [],
   "source": [
    "# Calculating leaky-relu\n",
    "def leaky_relu(Z, alpha = 0.01):\n",
    "    np.where(Z > 0, Z, Z * alpha)"
   ]
  },
  {
   "cell_type": "code",
   "execution_count": 7,
   "metadata": {},
   "outputs": [],
   "source": [
    "# Calculating first derivative of sigmoid\n",
    "def dif_sigmoid(Z):\n",
    "    return (1-np.power(Z, 2))"
   ]
  },
  {
   "cell_type": "code",
   "execution_count": 8,
   "metadata": {},
   "outputs": [],
   "source": [
    "# Calculating first derivative of tanh\n",
    "def dif_tanh(Z):\n",
    "    return 1-(tanh(Z)**2)"
   ]
  },
  {
   "cell_type": "code",
   "execution_count": 9,
   "metadata": {},
   "outputs": [],
   "source": [
    "# Calculating first derivative of relu\n",
    "def dif_relu(Z):\n",
    "    return (Z>0).astype(Z.dtype)"
   ]
  },
  {
   "cell_type": "code",
   "execution_count": 10,
   "metadata": {},
   "outputs": [],
   "source": [
    "# Calculating first derivative of leaky relu\n",
    "def dif_leaky_relu(Z, alpha = 0.01):\n",
    "    dz = np.ones_like(Z)\n",
    "    dz[Z < 0] = alpha\n",
    "    return dz"
   ]
  },
  {
   "cell_type": "code",
   "execution_count": 11,
   "metadata": {},
   "outputs": [],
   "source": [
    "#Get activation function\n",
    "def activation_fun(name):\n",
    "    if name=='relu':\n",
    "        return relu\n",
    "    elif name=='sigmoid':\n",
    "        return sigmoid\n",
    "    elif name=='leaky_relu':\n",
    "        return leaky_relu\n",
    "    elif name=='tanh':\n",
    "        return tanh\n",
    "    else:\n",
    "        return tanh"
   ]
  },
  {
   "cell_type": "code",
   "execution_count": 12,
   "metadata": {},
   "outputs": [],
   "source": [
    "#Get first derivative of activation function\n",
    "def derivative_activation(name):\n",
    "    if name=='relu':\n",
    "        return dif_relu\n",
    "    elif name=='sigmoid':\n",
    "        return dif_sigmoid\n",
    "    elif name=='leaky_relu':\n",
    "        return dif_leaky_relu\n",
    "    elif name=='tanh':\n",
    "        return dif_tanh\n",
    "    else:\n",
    "        return dif_tanh"
   ]
  },
  {
   "cell_type": "code",
   "execution_count": 13,
   "metadata": {},
   "outputs": [
    {
     "name": "stdout",
     "output_type": "stream",
     "text": [
      "train_set_x_orig shape (209, 64, 64, 3)\n",
      "train_set_y_orig (209,)\n",
      "test_set_x_orig (50, 64, 64, 3)\n",
      "test_set_y_orig (50,)\n",
      "classes (2,)\n"
     ]
    }
   ],
   "source": [
    "# Printing the shape of the training and testing data\n",
    "train_set_x_orig, train_set_y_orig, test_set_x_orig, test_set_y_orig, classes = load_dataset()\n",
    "print('train_set_x_orig shape', train_set_x_orig.shape)\n",
    "print('train_set_y_orig',train_set_y_orig.shape)\n",
    "print(\"test_set_x_orig\",test_set_x_orig.shape)\n",
    "print(\"test_set_y_orig\",test_set_y_orig.shape)\n",
    "print('classes',classes.shape)"
   ]
  },
  {
   "cell_type": "code",
   "execution_count": 14,
   "metadata": {},
   "outputs": [],
   "source": [
    "# Reshape the training and test examples\n",
    "def preprocess(train_set_x_orig, train_set_y_orig, test_set_x_orig, test_set_y_orig):\n",
    "    train_x = train_set_x_orig.reshape(train_set_x_orig.shape[0], train_set_x_orig.shape[1]*train_set_x_orig.shape[2]*train_set_x_orig.shape[3])/255.\n",
    "    test_x = test_set_x_orig.reshape(test_set_x_orig.shape[0],test_set_x_orig.shape[1]*test_set_x_orig.shape[2]*test_set_x_orig.shape[3])/255.\n",
    "    train_y = train_set_y_orig.reshape(-1,1)\n",
    "    test_y = test_set_y_orig.reshape(-1,1)\n",
    "    print('train_x shape', train_x.shape)\n",
    "    print('train_y',train_y.shape)\n",
    "    print(\"test_x\",test_x.shape)\n",
    "    print(\"test_y\",test_y.shape)\n",
    "    return train_x,test_x,train_y,test_y"
   ]
  },
  {
   "cell_type": "code",
   "execution_count": 15,
   "metadata": {},
   "outputs": [],
   "source": [
    "#Defining initail weights and bias to dictanary w and b\n",
    "def initial_weights(X,Y,h_nodes,hidden_layer):\n",
    "    \"\"\"\n",
    "    This function creates a vector of zeros of shape (X.shape[1], 1) for w and initializes b to 0.\n",
    "    \n",
    "    Argument:\n",
    "    X -- training dataset\n",
    "    h_nodes -- number of hidden nodes in each hidden laayer, list\n",
    "    hidden_layer -- number of hidden layers\n",
    "    \n",
    "    Returns:\n",
    "    w -- dict of initialized vector of shape (X.shape[1], hidden_nodes)\n",
    "    b -- dict of initialized scalar (corresponds to the bias)\n",
    "    \"\"\"\n",
    "    np.random.seed(42) \n",
    "    x_nodes = X.shape[1]\n",
    "    y_nodes = Y.shape[1]\n",
    "\n",
    "    w = {}\n",
    "    b = {} \n",
    "    dVw = {}\n",
    "    dVb = {}\n",
    "    dSw = {}\n",
    "    dSb = {}\n",
    "    for i in range(len(h_nodes)):\n",
    "        if i==0:\n",
    "            n_l_1 = x_nodes\n",
    "        else:\n",
    "            n_l_1 = h_nodes[i-1]\n",
    "        \n",
    "        w[i] = np.random.randn(n_l_1 ,h_nodes[i])*np.sqrt(2/n_l_1)\n",
    "        b[i] = np.random.randn(1,h_nodes[i]) * np.sqrt(2/n_l_1)\n",
    "        dVw[i] = np.zeros([n_l_1,h_nodes[i]])\n",
    "        dVb[i] = np.zeros([1,h_nodes[i]])\n",
    "        dSw[i] = np.zeros([n_l_1,h_nodes[i]])\n",
    "        dSb[i] = np.zeros([1,h_nodes[i]])\n",
    "    return w,b,dVw,dVb,dSw,dSb"
   ]
  },
  {
   "cell_type": "code",
   "execution_count": 16,
   "metadata": {},
   "outputs": [],
   "source": [
    "# FORWARD PROPAGATION\n",
    "def forward_propagate(X,w,b, activation,hidden_layer,h_nodes):\n",
    "    \"\"\"\n",
    "    This functions performs forward propagation and calculates output value\n",
    "    \n",
    "    Argument:\n",
    "    X -- training dataset\n",
    "    w -- dict of weights\n",
    "    b -- dict of bias\n",
    "    activationion -- list of actiations used at particular hidden layer\n",
    "    hidden_layer -- number of hidden layers, integer\n",
    "    h_nodes -- number of hidden nodes in each hidden laayer, list\n",
    "    \n",
    "    Returns:\n",
    "    A -- yhat for the training data, dict\n",
    "    Z -- Dot product between X and w , dict\n",
    "    \"\"\"\n",
    "    m = X.shape[0]\n",
    "    Z = {}\n",
    "    A = {}    \n",
    "    for l in range(len(h_nodes)):\n",
    "#         print(l)\n",
    "        if l == 0:\n",
    "            input_X = X\n",
    "        else:\n",
    "            input_X = A[l-1]\n",
    "        Z[l] = (np.dot(input_X,w[l])+b[l])\n",
    "        A[l] = activation_fun(activation[l])(Z[l])\n",
    "    \n",
    "    return Z, A"
   ]
  },
  {
   "cell_type": "code",
   "execution_count": 17,
   "metadata": {},
   "outputs": [],
   "source": [
    "# Calculating loss using the cost function\n",
    "def costfunction(Y,A):   \n",
    "    \"\"\"\n",
    "    This function calculates the loss between the predicted and actual output\n",
    "    \n",
    "    Argument:\n",
    "    Y -- actual output\n",
    "    A -- predicted output, dict\n",
    "    \n",
    "    Returns:\n",
    "    cost -- loss between the predicted and actual output\n",
    "    \"\"\"\n",
    "    m = Y.shape[0]\n",
    "    last_index = len(A)-1\n",
    "    cost = np.nansum(-1/m*np.sum(Y*np.log(A[last_index]) + (1-Y)*np.log(1-A[last_index])))\n",
    "    return cost"
   ]
  },
  {
   "cell_type": "code",
   "execution_count": 18,
   "metadata": {},
   "outputs": [],
   "source": [
    "# BACKWARD PROPAGATION (TO FIND GRADIENT)\n",
    "def back_prpagate(X,Y,Z,A,w,b,activation, hidden_layer,h_nodes):\n",
    "    \"\"\"Performs backward propagation and calculates derivative value for a layer\n",
    "\n",
    "    Arguments:\n",
    "    X -- array_like Data\n",
    "    Y -- array_like True labels\n",
    "    A -- predicted output, dict\n",
    "    Z -- intermidiate dot product , dict\n",
    "    w -- dict of weights\n",
    "    b -- dict of bias\n",
    "    activationion -- list of actiations used at particular hidden layer\n",
    "    hidden_layer -- number of hidden layers, integer\n",
    "    h_nodes -- number of hidden nodes in each hidden laayer, list    \n",
    "\n",
    "    Returns:\n",
    "    dw -- derivative of weight, dict\n",
    "    db -- derivative of bias,dict\n",
    "    dz -- cache,dict\n",
    "    \"\"\"\n",
    "    beta = 0.9\n",
    "\n",
    "    m = X.shape[0]\n",
    "    L= hidden_layer \n",
    "#     dz2 = (A2-Y)\n",
    "#     dw2 = 1/m*(np.dot(A1.T,dz2))\n",
    "#     db2 = 1/m*(np.sum(dz2, axis=0, keepdims=True))\n",
    "    \n",
    "#     dz1 = np.dot(dz2, w2.T) * activation_fun(activation)(A1)\n",
    "#     dw1 = 1/m*(np.dot(X.T,dz1))\n",
    "#     db1 = 1/m*(np.sum(dz1, axis=0, keepdims=True))    \n",
    "    dz = {}\n",
    "    da = {}\n",
    "    dw = {}\n",
    "    db = {}\n",
    "    dVw = []\n",
    "    dVb = []\n",
    "    for l in range(len(h_nodes)-1, -1, -1):\n",
    "#         print('A shape', len(A))\n",
    "        if l==len(h_nodes)-1:\n",
    "            dz[l] = (A[l] - Y)\n",
    "            dw[l] = (1./m * np.dot(A[l-1].T, dz[l]))\n",
    "            db[l] = (1./m * np.sum(dz[l]))\n",
    "\n",
    "        else:\n",
    "            dz[l] = ((np.dot(dz[l+1], w[l+1].T)) * derivative_activation(activation[l])(Z[l]))\n",
    "            if l!=0:\n",
    "                input_X = A[l-1]\n",
    "            else:\n",
    "                input_X = X\n",
    "            dw[l] = (1./m * np.dot(input_X.T, dz[l]))\n",
    "            db[l] = (1./m * np.sum(dz[l]))\n",
    "            \n",
    "#     for i in range(len(h_nodes)):\n",
    "#         if i==0:\n",
    "#             dVw_1 = 0\n",
    "#             dVb_1 = 0\n",
    "#         else:\n",
    "#             dVw_1 = dVw[i-1]\n",
    "#             dVb_1 = dVb[i-1]\n",
    "#         dVw.append((beta*dVw_1)+(1-beta)*dw[i])\n",
    "#         dVb.append((beta*dVb_1)+(1-beta)*db[i])\n",
    "    return dz,dw,db"
   ]
  },
  {
   "cell_type": "code",
   "execution_count": 19,
   "metadata": {},
   "outputs": [],
   "source": [
    "#Update weights and bias\n",
    "def update_weights(w,b,dw,db,learning_rate,hidden_layer,h_nodes,dVw,dVb,dSw,dSb,beta1,beta2):\n",
    "    \"\"\"\n",
    "    This function updates the weight and bias\n",
    "    \n",
    "    Argument:\n",
    "    w -- weight\n",
    "    b -- bias\n",
    "    dw -- derivative of weight\n",
    "    db -- derivative of bias\n",
    "    learning_rate --learning_rate , float\n",
    "    hidden_layer -- number of hidden layers, integer\n",
    "    h_nodes -- number of hidden nodes in each hidden laayer, list     \n",
    "    \n",
    "    Returns:\n",
    "    w -- weight , dict\n",
    "    b -- bias , dict\n",
    "    \"\"\"\n",
    "    L=hidden_layer\n",
    "    ep = 1e-8\n",
    "    for i in range(len(h_nodes)):\n",
    "        dVw[i] = ((beta1*dVw[i])+(1-beta1)*dw[i])\n",
    "        dVb[i] = ((beta1*dVb[i])+(1-beta1)*db[i])\n",
    "        \n",
    "        dSw[i] = ((beta2*dSw[i])+(1-beta2)*dw[i]*dw[i])\n",
    "        dSb[i] = ((beta2*dSb[i])+(1-beta2)*db[i]*db[i])\n",
    "        \n",
    "        w[i] = w[i] - learning_rate*dVw[i]/(np.sqrt(dSw[i])+ep)\n",
    "        b[i] = b[i] - learning_rate*dVb[i]/(np.sqrt(dSb[i])+ep)\n",
    "    return w,b"
   ]
  },
  {
   "cell_type": "code",
   "execution_count": 20,
   "metadata": {},
   "outputs": [],
   "source": [
    "#Training the model\n",
    "def train_model(X,Y,test_x,test_y,w,b, learning_rate,num_iterations,activation,hidden_layer,h_nodes,dVw,dVb,dSw,dSb,beta1,beta2):\n",
    "    \"\"\"\n",
    "    This function  trains the model with the number of iterations\n",
    "    \n",
    "    Arguments:\n",
    "    w -- weight , dict\n",
    "    b -- bias, dict\n",
    "    X -- training data \n",
    "    Y -- true \"label\" vector (containing 0 if non-cat, 1 if cat), of shape (1, number of examples)\n",
    "    num_iterations -- number of iterations of the optimization loop\n",
    "    learning_rate -- learning rate of the gradient descent update rule\n",
    "    activationion -- list of actiations used at particular hidden layer\n",
    "    hidden_layer -- number of hidden layers, integer\n",
    "    h_nodes -- number of hidden nodes in each hidden laayer, list \n",
    "    \n",
    "    Returns:\n",
    "    w -- weight\n",
    "    b -- bias\n",
    "    dw -- derivative of weight\n",
    "    db -- derivative of bias\n",
    "    cost -- loss     \n",
    "    \"\"\"\n",
    "    for i in range(num_iterations):\n",
    "        \n",
    "        Z,A = forward_propagate(X,w,b,activation,hidden_layer,h_nodes)\n",
    "        cost = costfunction(Y,A)\n",
    "        dz,dw,db = back_prpagate(X,Y,Z,A,w,b,activation,hidden_layer,h_nodes)\n",
    "        w,b = update_weights(w,b,dw,db,learning_rate,hidden_layer,h_nodes,dVw,dVb,dSw,dSb,beta1,beta2)\n",
    "        \n",
    "        if i%(num_iterations/10) == 0:\n",
    "\n",
    "            _,A_train = forward_propagate(X,w,b, activation,hidden_layer,h_nodes)\n",
    "            A_train1 = np.where(A_train[len(A_train)-1]>0.5 , 1, 0)\n",
    "        \n",
    "            _,A_test = forward_propagate(test_x,w,b,activation,hidden_layer,h_nodes)\n",
    "            A_test1 = np.where(A_test[len(A_test)-1]>0.5 , 1, 0)\n",
    "            acc_train = accuracy_score(Y, A_train1)\n",
    "            acc_test = accuracy_score(test_y , A_test1)\n",
    "        \n",
    "            print('Iteration: ', i, end = '')\n",
    "            print('\\tLoss {:.4f}\\t'.format(cost), end = '')\n",
    "            print('\\tTraining Accuracy: {:.4f}\\t'.format(acc_train),end = '')\n",
    "            print('Testing Accuracy: {:.4f}'.format(acc_test))\n",
    "    return w,b,dw,db, cost"
   ]
  },
  {
   "cell_type": "code",
   "execution_count": 21,
   "metadata": {},
   "outputs": [],
   "source": [
    "def model(train_set_x_orig, train_set_y_orig, test_set_x_orig, test_set_y_orig, classes, num_iterations, learning_rate,beta1,beta2):\n",
    "    train_x,test_x,train_y,test_y = preprocess(train_set_x_orig, train_set_y_orig, test_set_x_orig, test_set_y_orig)\n",
    "    hidden_layer = 4\n",
    "    h_nodes = [20,16,8,4,train_y.shape[1]]\n",
    "    activation = ['relu','relu','relu','relu','sigmoid']\n",
    "    w,b,dVw,dVb,dSw,dSb = initial_weights(train_x,train_y,h_nodes,hidden_layer)\n",
    "    w,b,dw,db,cost = train_model(train_x,train_y,test_x,test_y,w,b,learning_rate,num_iterations,activation,\n",
    "                                 hidden_layer,h_nodes,dVw,dVb,dSw,dSb,beta1,beta2)"
   ]
  },
  {
   "cell_type": "code",
   "execution_count": 22,
   "metadata": {},
   "outputs": [
    {
     "name": "stdout",
     "output_type": "stream",
     "text": [
      "train_x shape (209, 12288)\n",
      "train_y (209, 1)\n",
      "test_x (50, 12288)\n",
      "test_y (50, 1)\n",
      "Iteration:  0\tLoss 0.6441\t\tTraining Accuracy: 0.6555\tTesting Accuracy: 0.3400\n",
      "Iteration:  40\tLoss 0.6440\t\tTraining Accuracy: 0.6555\tTesting Accuracy: 0.3400\n",
      "Iteration:  80\tLoss 0.6292\t\tTraining Accuracy: 0.6555\tTesting Accuracy: 0.3400\n",
      "Iteration:  120\tLoss 0.5902\t\tTraining Accuracy: 0.6555\tTesting Accuracy: 0.3400\n",
      "Iteration:  160\tLoss 0.5421\t\tTraining Accuracy: 0.6555\tTesting Accuracy: 0.3400\n",
      "Iteration:  200\tLoss 0.4982\t\tTraining Accuracy: 0.8995\tTesting Accuracy: 0.7000\n",
      "Iteration:  240\tLoss 0.4183\t\tTraining Accuracy: 0.8900\tTesting Accuracy: 0.5000\n",
      "Iteration:  280\tLoss 0.3748\t\tTraining Accuracy: 0.9139\tTesting Accuracy: 0.5000\n",
      "Iteration:  320\tLoss 0.3352\t\tTraining Accuracy: 0.9187\tTesting Accuracy: 0.4800\n",
      "Iteration:  360\tLoss 0.3404\t\tTraining Accuracy: 0.9234\tTesting Accuracy: 0.7200\n"
     ]
    }
   ],
   "source": [
    "train_set_x_orig, train_set_y_orig, test_set_x_orig, test_set_y_orig, classes = load_dataset()\n",
    "# num_iterations = int(input(\"Enter iterations : \"))\n",
    "# learning_rate = float(input(\"Enter learning rate : \"))\n",
    "num_iterations = 400\n",
    "learning_rate = 0.001\n",
    "beta1 = 0.9\n",
    "beta2 = 0.999\n",
    "model(train_set_x_orig, train_set_y_orig, test_set_x_orig, test_set_y_orig, classes, num_iterations, learning_rate,beta1,beta2)"
   ]
  },
  {
   "cell_type": "markdown",
   "metadata": {},
   "source": [
    "#### Note - We can try different hyper-parameters to get better testing accuracy"
   ]
  }
 ],
 "metadata": {
  "kernelspec": {
   "display_name": "Python 3",
   "language": "python",
   "name": "python3"
  },
  "language_info": {
   "codemirror_mode": {
    "name": "ipython",
    "version": 3
   },
   "file_extension": ".py",
   "mimetype": "text/x-python",
   "name": "python",
   "nbconvert_exporter": "python",
   "pygments_lexer": "ipython3",
   "version": "3.7.3"
  }
 },
 "nbformat": 4,
 "nbformat_minor": 2
}
